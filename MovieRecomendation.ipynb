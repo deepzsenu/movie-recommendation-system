{
 "cells": [
  {
   "cell_type": "code",
   "execution_count": 2,
   "id": "944a29fc-d2c9-4aa6-b150-94d8b3c334bd",
   "metadata": {},
   "outputs": [],
   "source": [
    "!.\\movie\\Scripts\\Activate"
   ]
  },
  {
   "cell_type": "code",
   "execution_count": 4,
   "id": "27869d48-67dd-4cc7-ba84-eb648219ce79",
   "metadata": {},
   "outputs": [],
   "source": [
    "import pandas as pd\n",
    "\n",
    "# Load the ratings data\n",
    "ratings = pd.read_csv('ml-100k/u.data', sep='\\t', names=['userId', 'movieId', 'rating', 'timestamp'])\n",
    "\n",
    "# Load the movies data\n",
    "movies = pd.read_csv('ml-100k/u.item', sep='|', encoding='latin-1', header=None, names=[\n",
    "    'movieId', 'title', 'release_date', 'video_release_date', 'IMDb_URL', 'unknown', 'Action', 'Adventure', \n",
    "    'Animation', 'Children', 'Comedy', 'Crime', 'Documentary', 'Drama', 'Fantasy', 'Film-Noir', 'Horror', \n",
    "    'Musical', 'Mystery', 'Romance', 'Sci-Fi', 'Thriller', 'War', 'Western'])\n",
    "\n",
    "# Keep only relevant columns\n",
    "movies = movies[['movieId', 'title']]\n",
    "\n",
    "# Merge ratings and movies data\n",
    "data = pd.merge(ratings, movies, on='movieId')\n",
    "\n",
    "# Save the preprocessed dataset to a CSV file\n",
    "data.to_csv('data/movies.csv', index=False)\n"
   ]
  },
  {
   "cell_type": "code",
   "execution_count": 6,
   "id": "7331c8d4-da21-4f9a-9560-8e6b0c55cfe9",
   "metadata": {},
   "outputs": [
    {
     "ename": "ModuleNotFoundError",
     "evalue": "No module named 'surprise'",
     "output_type": "error",
     "traceback": [
      "\u001b[1;31m---------------------------------------------------------------------------\u001b[0m",
      "\u001b[1;31mModuleNotFoundError\u001b[0m                       Traceback (most recent call last)",
      "Cell \u001b[1;32mIn[6], line 2\u001b[0m\n\u001b[0;32m      1\u001b[0m \u001b[38;5;28;01mimport\u001b[39;00m \u001b[38;5;21;01mpandas\u001b[39;00m \u001b[38;5;28;01mas\u001b[39;00m \u001b[38;5;21;01mpd\u001b[39;00m\n\u001b[1;32m----> 2\u001b[0m \u001b[38;5;28;01mfrom\u001b[39;00m \u001b[38;5;21;01msurprise\u001b[39;00m \u001b[38;5;28;01mimport\u001b[39;00m SVD, Dataset, Reader\n\u001b[0;32m      3\u001b[0m \u001b[38;5;28;01mimport\u001b[39;00m \u001b[38;5;21;01mpickle\u001b[39;00m\n\u001b[0;32m      5\u001b[0m \u001b[38;5;66;03m# Load the merged data\u001b[39;00m\n",
      "\u001b[1;31mModuleNotFoundError\u001b[0m: No module named 'surprise'"
     ]
    }
   ],
   "source": [
    "import pandas as pd\n",
    "from surprise import SVD, Dataset, Reader\n",
    "import pickle\n",
    "\n",
    "# Load the merged data\n",
    "data = pd.read_csv('data/movies.csv')\n",
    "\n",
    "# Load data into Surprise\n",
    "reader = Reader(rating_scale=(1, 5))\n",
    "data = Dataset.load_from_df(data[['userId', 'movieId', 'rating']], reader)\n",
    "trainset = data.build_full_trainset()\n",
    "\n",
    "# Train the SVD algorithm\n",
    "algo = SVD()\n",
    "algo.fit(trainset)\n",
    "\n",
    "# Save the model to a file\n",
    "with open('models/recommendation_model.pkl', 'wb') as f:\n",
    "    pickle.dump(algo, f)\n"
   ]
  },
  {
   "cell_type": "code",
   "execution_count": null,
   "id": "0291eb30-a462-4c26-a1b9-aa8bd5cf2749",
   "metadata": {},
   "outputs": [],
   "source": [
    "!pip install scikit-surprise\n"
   ]
  },
  {
   "cell_type": "code",
   "execution_count": null,
   "id": "0e1ef249-98af-42fc-bea9-66ef8cdb89e9",
   "metadata": {},
   "outputs": [],
   "source": [
    "import pandas as pd\n",
    "from sklearn.feature_extraction.text import TfidfVectorizer\n",
    "from sklearn.metrics.pairwise import linear_kernel\n",
    "import pickle\n",
    "\n",
    "# Load the movie data\n",
    "movies = pd.read_csv('data/movies.csv')\n",
    "\n",
    "# Preprocess the movie genres\n",
    "movies['genres'] = movies['genres'].str.replace('|', ' ')\n",
    "\n",
    "# Create a TF-IDF Vectorizer to transform the genres into a feature matrix\n",
    "tfidf = TfidfVectorizer(stop_words='english')\n",
    "tfidf_matrix = tfidf.fit_transform(movies['genres'])\n",
    "\n",
    "# Compute the cosine similarity matrix\n",
    "cosine_sim = linear_kernel(tfidf_matrix, tfidf_matrix)\n",
    "\n",
    "# Save the cosine similarity matrix\n",
    "with open('models/cosine_sim.pkl', 'wb') as f:\n",
    "    pickle.dump(cosine_sim, f)\n"
   ]
  }
 ],
 "metadata": {
  "kernelspec": {
   "display_name": "Python 3 (ipykernel)",
   "language": "python",
   "name": "python3"
  },
  "language_info": {
   "codemirror_mode": {
    "name": "ipython",
    "version": 3
   },
   "file_extension": ".py",
   "mimetype": "text/x-python",
   "name": "python",
   "nbconvert_exporter": "python",
   "pygments_lexer": "ipython3",
   "version": "3.12.4"
  }
 },
 "nbformat": 4,
 "nbformat_minor": 5
}
