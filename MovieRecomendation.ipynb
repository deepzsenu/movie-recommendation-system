{
 "cells": [
  {
   "cell_type": "code",
   "execution_count": 8,
   "id": "944a29fc-d2c9-4aa6-b150-94d8b3c334bd",
   "metadata": {},
   "outputs": [
    {
     "name": "stdout",
     "output_type": "stream",
     "text": [
      "Requirement already satisfied: numpy<2 in c:\\python312\\lib\\site-packages (from -r requirements.txt (line 1)) (1.26.4)\n",
      "Requirement already satisfied: flask in c:\\python312\\lib\\site-packages (from -r requirements.txt (line 2)) (3.0.3)\n",
      "Requirement already satisfied: gunicorn in c:\\python312\\lib\\site-packages (from -r requirements.txt (line 3)) (22.0.0)\n",
      "Requirement already satisfied: pandas in c:\\python312\\lib\\site-packages (from -r requirements.txt (line 4)) (2.2.2)\n",
      "Requirement already satisfied: scikit-learn in c:\\python312\\lib\\site-packages (from -r requirements.txt (line 5)) (1.5.1)\n",
      "Requirement already satisfied: scikit-surprise in c:\\python312\\lib\\site-packages (from -r requirements.txt (line 6)) (1.1.4)\n",
      "Requirement already satisfied: Werkzeug>=3.0.0 in c:\\python312\\lib\\site-packages (from flask->-r requirements.txt (line 2)) (3.0.3)\n",
      "Requirement already satisfied: Jinja2>=3.1.2 in c:\\python312\\lib\\site-packages (from flask->-r requirements.txt (line 2)) (3.1.4)\n",
      "Requirement already satisfied: itsdangerous>=2.1.2 in c:\\python312\\lib\\site-packages (from flask->-r requirements.txt (line 2)) (2.2.0)\n",
      "Requirement already satisfied: click>=8.1.3 in c:\\python312\\lib\\site-packages (from flask->-r requirements.txt (line 2)) (8.1.7)\n",
      "Requirement already satisfied: blinker>=1.6.2 in c:\\python312\\lib\\site-packages (from flask->-r requirements.txt (line 2)) (1.8.2)\n",
      "Requirement already satisfied: packaging in c:\\python312\\lib\\site-packages (from gunicorn->-r requirements.txt (line 3)) (24.1)\n",
      "Requirement already satisfied: python-dateutil>=2.8.2 in c:\\python312\\lib\\site-packages (from pandas->-r requirements.txt (line 4)) (2.9.0.post0)\n",
      "Requirement already satisfied: pytz>=2020.1 in c:\\python312\\lib\\site-packages (from pandas->-r requirements.txt (line 4)) (2024.1)\n",
      "Requirement already satisfied: tzdata>=2022.7 in c:\\python312\\lib\\site-packages (from pandas->-r requirements.txt (line 4)) (2024.1)\n",
      "Requirement already satisfied: scipy>=1.6.0 in c:\\python312\\lib\\site-packages (from scikit-learn->-r requirements.txt (line 5)) (1.14.0)\n",
      "Requirement already satisfied: joblib>=1.2.0 in c:\\python312\\lib\\site-packages (from scikit-learn->-r requirements.txt (line 5)) (1.4.2)\n",
      "Requirement already satisfied: threadpoolctl>=3.1.0 in c:\\python312\\lib\\site-packages (from scikit-learn->-r requirements.txt (line 5)) (3.5.0)\n",
      "Requirement already satisfied: colorama in c:\\python312\\lib\\site-packages (from click>=8.1.3->flask->-r requirements.txt (line 2)) (0.4.6)\n",
      "Requirement already satisfied: MarkupSafe>=2.0 in c:\\python312\\lib\\site-packages (from Jinja2>=3.1.2->flask->-r requirements.txt (line 2)) (2.1.5)\n",
      "Requirement already satisfied: six>=1.5 in c:\\python312\\lib\\site-packages (from python-dateutil>=2.8.2->pandas->-r requirements.txt (line 4)) (1.16.0)\n"
     ]
    },
    {
     "name": "stderr",
     "output_type": "stream",
     "text": [
      "\n",
      "[notice] A new release of pip is available: 24.0 -> 24.1.2\n",
      "[notice] To update, run: python.exe -m pip install --upgrade pip\n"
     ]
    }
   ],
   "source": [
    "!python -m venv movie\n",
    "!.\\movie\\Scripts\\Activate\n",
    "!pip install -r requirements.txt"
   ]
  },
  {
   "cell_type": "code",
   "execution_count": 10,
   "id": "27869d48-67dd-4cc7-ba84-eb648219ce79",
   "metadata": {},
   "outputs": [],
   "source": [
    "import pandas as pd\n",
    "\n",
    "# Load the ratings data\n",
    "ratings = pd.read_csv('ml-100k/u.data', sep='\\t', names=['userId', 'movieId', 'rating', 'timestamp'])\n",
    "\n",
    "# Load the movies data\n",
    "movies = pd.read_csv('ml-100k/u.item', sep='|', encoding='latin-1', header=None, names=[\n",
    "    'movieId', 'title', 'release_date', 'video_release_date', 'IMDb_URL', 'unknown', 'Action', 'Adventure', \n",
    "    'Animation', 'Children', 'Comedy', 'Crime', 'Documentary', 'Drama', 'Fantasy', 'Film-Noir', 'Horror', \n",
    "    'Musical', 'Mystery', 'Romance', 'Sci-Fi', 'Thriller', 'War', 'Western'])\n",
    "\n",
    "# Keep only relevant columns\n",
    "movies = movies[['movieId', 'title']]\n",
    "\n",
    "# Merge ratings and movies data\n",
    "data = pd.merge(ratings, movies, on='movieId')\n",
    "\n",
    "# Save the preprocessed dataset to a CSV file\n",
    "data.to_csv('data/movies.csv', index=False)\n"
   ]
  },
  {
   "cell_type": "code",
   "execution_count": null,
   "id": "0291eb30-a462-4c26-a1b9-aa8bd5cf2749",
   "metadata": {},
   "outputs": [],
   "source": [
    "!pip install scikit-surprise\n"
   ]
  },
  {
   "cell_type": "code",
   "execution_count": null,
   "id": "f5557bc1-8f13-4029-be60-fa3e0055bec9",
   "metadata": {},
   "outputs": [],
   "source": [
    "import pandas as pd\n",
    "from surprise import SVD, Dataset, Reader\n",
    "import pickle\n",
    "\n",
    "# Load the merged data\n",
    "data = pd.read_csv('data/movies.csv')\n",
    "\n",
    "# Load data into Surprise\n",
    "reader = Reader(rating_scale=(1, 5))\n",
    "data = Dataset.load_from_df(data[['userId', 'movieId', 'rating']], reader)\n",
    "trainset = data.build_full_trainset()\n",
    "\n",
    "# Train the SVD algorithm\n",
    "algo = SVD()\n",
    "algo.fit(trainset)\n",
    "\n",
    "# Save the model to a file\n",
    "with open('models/recommendation_model.pkl', 'wb') as f:\n",
    "    pickle.dump(algo, f)\n"
   ]
  },
  {
   "cell_type": "code",
   "execution_count": null,
   "id": "0e1ef249-98af-42fc-bea9-66ef8cdb89e9",
   "metadata": {},
   "outputs": [],
   "source": [
    "import pandas as pd\n",
    "from sklearn.feature_extraction.text import TfidfVectorizer\n",
    "from sklearn.metrics.pairwise import linear_kernel\n",
    "import pickle\n",
    "\n",
    "# Load the movie data\n",
    "movies = pd.read_csv('data/movies.csv')\n",
    "\n",
    "# Preprocess the movie genres\n",
    "movies['genres'] = movies['genres'].str.replace('|', ' ')\n",
    "\n",
    "# Create a TF-IDF Vectorizer to transform the genres into a feature matrix\n",
    "tfidf = TfidfVectorizer(stop_words='english')\n",
    "tfidf_matrix = tfidf.fit_transform(movies['genres'])\n",
    "\n",
    "# Compute the cosine similarity matrix\n",
    "cosine_sim = linear_kernel(tfidf_matrix, tfidf_matrix)\n",
    "\n",
    "# Save the cosine similarity matrix\n",
    "with open('models/cosine_sim.pkl', 'wb') as f:\n",
    "    pickle.dump(cosine_sim, f)\n"
   ]
  }
 ],
 "metadata": {
  "kernelspec": {
   "display_name": "Python 3 (ipykernel)",
   "language": "python",
   "name": "python3"
  },
  "language_info": {
   "codemirror_mode": {
    "name": "ipython",
    "version": 3
   },
   "file_extension": ".py",
   "mimetype": "text/x-python",
   "name": "python",
   "nbconvert_exporter": "python",
   "pygments_lexer": "ipython3",
   "version": "3.12.4"
  }
 },
 "nbformat": 4,
 "nbformat_minor": 5
}
